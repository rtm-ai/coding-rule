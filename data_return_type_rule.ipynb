{
 "cells": [
  {
   "cell_type": "code",
   "execution_count": 59,
   "metadata": {},
   "outputs": [],
   "source": [
    "import torch\n",
    "import numpy as np\n",
    "\n",
    "from torch import Tensor\n",
    "from numpy import ndarray\n",
    "from typing import Optional, List, Dict, Tuple, Set, Union, Callable, Iterable, TypeVar\n",
    "from typing import Any"
   ]
  },
  {
   "cell_type": "markdown",
   "metadata": {},
   "source": [
    "Iterable\n",
    "TypeVar"
   ]
  },
  {
   "cell_type": "code",
   "execution_count": 60,
   "metadata": {},
   "outputs": [
    {
     "data": {
      "text/plain": [
       "(torch.Tensor, numpy.ndarray)"
      ]
     },
     "execution_count": 60,
     "metadata": {},
     "output_type": "execute_result"
    }
   ],
   "source": [
    "type(torch.Tensor([1, 2, 3])), type(np.array([1, 2, 3]))"
   ]
  },
  {
   "cell_type": "code",
   "execution_count": 61,
   "metadata": {},
   "outputs": [],
   "source": [
    "class A:\n",
    "    a = 0\n",
    "    b = 1"
   ]
  },
  {
   "cell_type": "code",
   "execution_count": 62,
   "metadata": {},
   "outputs": [],
   "source": [
    "def fnct_sample(a: int, b:bool = True) -> List[int]:\n",
    "    return [a * b]"
   ]
  },
  {
   "cell_type": "code",
   "execution_count": 66,
   "metadata": {},
   "outputs": [],
   "source": [
    "New_type = TypeVar('rtm.new_type')"
   ]
  },
  {
   "cell_type": "code",
   "execution_count": 68,
   "metadata": {},
   "outputs": [],
   "source": [
    "class SampleClass:\n",
    "    \"\"\"\n",
    "    write note, argument info, example\n",
    "    \"\"\"\n",
    "    \n",
    "    def __init__(\n",
    "        self,\n",
    "        arg1: int,\n",
    "        arg2: bool,\n",
    "        arg3: str,\n",
    "        arg4: float,\n",
    "        arg5: ndarray,\n",
    "        arg6: Tensor,\n",
    "        arg7: List[int],\n",
    "        arg8: Dict[str, str],\n",
    "        arg9: Set[float],\n",
    "        arg10: Tuple[bool],\n",
    "        arg11: Optional[int],\n",
    "        arg12: Union[str, int],\n",
    "        arg13: Union[List[int], Set[bool]],\n",
    "        arg14: A,\n",
    "        arg15: Callable[[int, bool], List[int]],\n",
    "        arg16: Iterable[int],\n",
    "        arg17: Any,\n",
    "        arg18: New_type,\n",
    "        arg19: int = 0,\n",
    "        arg20: float = 1.2,\n",
    "        arg21: List[int] = [1, 2, 3],\n",
    "        \n",
    "    ):\n",
    "        pass\n",
    "\n",
    "    def function1(self, input: Tensor) -> Tensor:\n",
    "        pass\n",
    "        return None\n",
    "    \n",
    "    def function1(self, input: ndarray) -> ndarray:\n",
    "        pass\n",
    "        return None"
   ]
  },
  {
   "cell_type": "code",
   "execution_count": null,
   "metadata": {},
   "outputs": [],
   "source": []
  }
 ],
 "metadata": {
  "kernelspec": {
   "display_name": "sangyeop",
   "language": "python",
   "name": "sangyeop"
  },
  "language_info": {
   "codemirror_mode": {
    "name": "ipython",
    "version": 3
   },
   "file_extension": ".py",
   "mimetype": "text/x-python",
   "name": "python",
   "nbconvert_exporter": "python",
   "pygments_lexer": "ipython3",
   "version": "3.7.9"
  }
 },
 "nbformat": 4,
 "nbformat_minor": 4
}
